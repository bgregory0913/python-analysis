{
 "cells": [
  {
   "cell_type": "code",
   "execution_count": 1,
   "metadata": {},
   "outputs": [],
   "source": [
    "import csv"
   ]
  },
  {
   "cell_type": "code",
   "execution_count": 2,
   "metadata": {},
   "outputs": [],
   "source": [
    "month_count = 0\n",
    "net_total = 0\n",
    "value = 0\n",
    "change = 0\n",
    "dates = []\n",
    "profits = []"
   ]
  },
  {
   "cell_type": "code",
   "execution_count": 3,
   "metadata": {},
   "outputs": [],
   "source": [
    "with open(\"Resources/budget_data.csv\") as bd:\n",
    "    budget_data = csv.reader(bd)\n",
    "    if csv.Sniffer().has_header:\n",
    "        next(budget_data)\n",
    "        top_row = next(budget_data)\n",
    "    month_count += 1\n",
    "    net_total += int(top_row[1])\n",
    "    value = int(top_row[1])\n",
    "    for d in budget_data:\n",
    "        dates.append(d[0])\n",
    "        change = int(d[1]) - value\n",
    "        profits.append(change)\n",
    "        value = int(d[1])\n",
    "        net_total = net_total + int(d[1])\n",
    "        month_count += 1\n",
    "    #Calculate greatest profit increase (date and amount) over the entire period:\n",
    "    greatest_prof_incr = max(profits)\n",
    "    greatest_incr_index = profits.index(greatest_prof_incr)\n",
    "    greatest_date = dates[greatest_incr_index]\n",
    "    #Calculate greatest profit decrease (date and amount) over the entire period: \n",
    "    greatest_prof_decr = min(profits)\n",
    "    greatest_decr_index = profits.index(greatest_prof_decr)\n",
    "    worst_date = dates[greatest_decr_index]\n",
    "    #Calculate the average changes in profit/loss over the entire period:\n",
    "    average_change = sum(profits)/len(profits)"
   ]
  },
  {
   "cell_type": "code",
   "execution_count": 4,
   "metadata": {},
   "outputs": [
    {
     "name": "stdout",
     "output_type": "stream",
     "text": [
      "Financial Analysis\n",
      "----------------------------\n",
      "Total Months: 86\n",
      "Total: $38382578\n",
      "Average Change: $-2315.12\n",
      "Greatest Increase in Profits: Feb-2012 ($1926159)\n",
      "Greatest Decrease in Profits: Sep-2013 ($-2196167)\n"
     ]
    }
   ],
   "source": [
    "#Print data in the requested format:\n",
    "print(\"Financial Analysis\" + \"\\n\" + \"----------------------------\")\n",
    "print(\"Total Months:\", month_count)\n",
    "print(\"Total:\",\"$\" + str(net_total))\n",
    "print(\"Average Change:\",\"$\" + str(round(average_change,2)))\n",
    "print(\"Greatest Increase in Profits:\", greatest_date, \"($\" + str(greatest_prof_incr) + \")\")\n",
    "print(f\"Greatest Decrease in Profits:\", worst_date, \"($\" + str(greatest_prof_decr) + \")\")"
   ]
  },
  {
   "cell_type": "code",
   "execution_count": 5,
   "metadata": {},
   "outputs": [
    {
     "data": {
      "text/plain": [
       "209"
      ]
     },
     "execution_count": 5,
     "metadata": {},
     "output_type": "execute_result"
    }
   ],
   "source": [
    "#Export to text file\n",
    "output = open(\"output.txt\", \"w\")\n",
    "line1 = str(\"Financial Analysis\" + \"\\n\" + \"----------------------------\")\n",
    "line2 = str(f\"Total Months: {str(month_count)}\")\n",
    "line3 = str(f\"Total: ${str(net_total)}\")\n",
    "line4 = str(f\"Average Change: ${str(round(average_change,2))}\")\n",
    "line5 = str(f\"Greatest Increase in Profits: {greatest_date} (${str(greatest_prof_incr)})\")\n",
    "line6 = str(f\"Greatest Decrease in Profits: {worst_date} (${str(greatest_prof_decr)})\")\n",
    "output.write('{}\\n{}\\n{}\\n{}\\n{}\\n{}\\n'.format(line1,line2,line3,line4,line5,line6))"
   ]
  },
  {
   "cell_type": "code",
   "execution_count": null,
   "metadata": {},
   "outputs": [],
   "source": []
  }
 ],
 "metadata": {
  "kernelspec": {
   "display_name": "Python 3",
   "language": "python",
   "name": "python3"
  },
  "language_info": {
   "codemirror_mode": {
    "name": "ipython",
    "version": 3
   },
   "file_extension": ".py",
   "mimetype": "text/x-python",
   "name": "python",
   "nbconvert_exporter": "python",
   "pygments_lexer": "ipython3",
   "version": "3.8.5"
  }
 },
 "nbformat": 4,
 "nbformat_minor": 4
}
