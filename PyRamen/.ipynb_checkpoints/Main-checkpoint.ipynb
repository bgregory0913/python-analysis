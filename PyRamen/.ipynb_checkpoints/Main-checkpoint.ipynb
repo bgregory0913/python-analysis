{
 "cells": [
  {
   "cell_type": "code",
   "execution_count": 1,
   "metadata": {},
   "outputs": [],
   "source": [
    "import csv"
   ]
  },
  {
   "cell_type": "code",
   "execution_count": 2,
   "metadata": {},
   "outputs": [],
   "source": [
    "#Define lists and dictionary\n",
    "menu = []\n",
    "sales = []\n",
    "report = {}"
   ]
  },
  {
   "cell_type": "code",
   "execution_count": 3,
   "metadata": {},
   "outputs": [],
   "source": [
    "#Import menu_data to a list:\n",
    "with open(\"Resources/menu_data.csv\") as md:\n",
    "    menu_reader = csv.reader(md)\n",
    "    first_menu_row = next(menu_reader)\n",
    "    for m in menu_reader:\n",
    "            menu.append(m)       "
   ]
  },
  {
   "cell_type": "code",
   "execution_count": 4,
   "metadata": {},
   "outputs": [],
   "source": [
    "#Import sales_data to a list:\n",
    "with open(\"Resources/sales_data.csv\") as sd:\n",
    "    sales_reader = csv.reader(sd)\n",
    "    first_sales_row = next(sales_reader)\n",
    "    for s in sales_reader:\n",
    "        sales.append(s)"
   ]
  },
  {
   "cell_type": "code",
   "execution_count": null,
   "metadata": {},
   "outputs": [],
   "source": [
    "for si in sales:\n",
    "    sales_item = (si[4])\n",
    "    quantity = int(si[3])\n",
    "\n",
    "    if sales_item not in report:\n",
    "        report[sales_item] = {\n",
    "                            \"01-count\": 0,\n",
    "                            \"02-revenue\": 0,\n",
    "                            \"03-cogs\": 0,\n",
    "                            \"04-profit\": 0,\n",
    "                            }\n",
    "    for mi in menu:\n",
    "        menu_item = (mi[0])\n",
    "        price = float(mi[3])\n",
    "        cost = float(mi[4])\n",
    "        profit = price - cost\n",
    "        if sales_item == menu_item:\n",
    "            report[sales_item][\"01-count\"] += quantity\n",
    "            report[sales_item][\"02-revenue\"] += price * quantity\n",
    "            report[sales_item][\"03-cogs\"] += cost * quantity\n",
    "            report[sales_item][\"04-profit\"] += profit * quantity\n",
    "#         elif sales_item != menu_item:\n",
    "#             print(f\"{sales_item} does not equal {menu_item}! NO MATCH!\")"
   ]
  },
  {
   "cell_type": "code",
   "execution_count": 7,
   "metadata": {},
   "outputs": [],
   "source": [
    "#Output data to text file:\n",
    "with open(\"output.txt\", \"w\") as f: \n",
    "    for key, value in report.items(): \n",
    "        f.write('%s:%s\\n' % (key, value)) "
   ]
  }
 ],
 "metadata": {
  "kernelspec": {
   "display_name": "Python 3",
   "language": "python",
   "name": "python3"
  },
  "language_info": {
   "codemirror_mode": {
    "name": "ipython",
    "version": 3
   },
   "file_extension": ".py",
   "mimetype": "text/x-python",
   "name": "python",
   "nbconvert_exporter": "python",
   "pygments_lexer": "ipython3",
   "version": "3.8.5"
  }
 },
 "nbformat": 4,
 "nbformat_minor": 4
}
