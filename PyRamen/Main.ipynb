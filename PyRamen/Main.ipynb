{
 "cells": [
  {
   "cell_type": "code",
   "execution_count": 1,
   "metadata": {},
   "outputs": [],
   "source": [
    "import csv"
   ]
  },
  {
   "cell_type": "code",
   "execution_count": 2,
   "metadata": {},
   "outputs": [],
   "source": [
    "menu = []\n",
    "sales = []\n",
    "report = {}"
   ]
  },
  {
   "cell_type": "code",
   "execution_count": 3,
   "metadata": {},
   "outputs": [],
   "source": [
    "with open(\"Resources/menu_data.csv\") as md:\n",
    "    menu_reader = csv.reader(md)\n",
    "    first_menu_row = next(menu_reader)\n",
    "    for m in menu_reader:\n",
    "            menu.append(m)       "
   ]
  },
  {
   "cell_type": "code",
   "execution_count": 4,
   "metadata": {},
   "outputs": [],
   "source": [
    "with open(\"Resources/sales_data.csv\") as sd:\n",
    "    sales_reader = csv.reader(sd)\n",
    "    first_sales_row = next(sales_reader)\n",
    "    for s in sales_reader:\n",
    "        sales.append(s)"
   ]
  },
  {
   "cell_type": "code",
   "execution_count": 5,
   "metadata": {},
   "outputs": [],
   "source": [
    "for si in sales:\n",
    "    sales_item = (si[4])\n",
    "    quantity = int(si[3])\n",
    "\n",
    "    if sales_item not in report:\n",
    "        report[sales_item] = {\n",
    "                            \"01-count\": 0,\n",
    "                            \"02-revenue\": 0,\n",
    "                            \"03-cogs\": 0,\n",
    "                            \"04-profit\": 0,\n",
    "                            }\n",
    "    for mi in menu:\n",
    "        menu_item = (mi[0])\n",
    "        price = float(mi[3])\n",
    "        cost = float(mi[4])\n",
    "        profit = price - cost\n",
    "        if menu_item==sales_item in report:\n",
    "            report[sales_item][\"01-count\"] += quantity\n",
    "            report[sales_item][\"02-revenue\"] += price * quantity\n",
    "            report[sales_item][\"03-cogs\"] += cost * quantity\n",
    "            report[sales_item][\"04-profit\"] += profit * quantity"
   ]
  },
  {
   "cell_type": "code",
   "execution_count": 6,
   "metadata": {},
   "outputs": [
    {
     "data": {
      "text/plain": [
       "{'spicy miso ramen': {'01-count': 9238,\n",
       "  '02-revenue': 110856.0,\n",
       "  '03-cogs': 46190.0,\n",
       "  '04-profit': 64666.0},\n",
       " 'tori paitan ramen': {'01-count': 9156,\n",
       "  '02-revenue': 119028.0,\n",
       "  '03-cogs': 54936.0,\n",
       "  '04-profit': 64092.0},\n",
       " 'truffle butter ramen': {'01-count': 8982,\n",
       "  '02-revenue': 125748.0,\n",
       "  '03-cogs': 62874.0,\n",
       "  '04-profit': 62874.0},\n",
       " 'tonkotsu ramen': {'01-count': 9288,\n",
       "  '02-revenue': 120744.0,\n",
       "  '03-cogs': 55728.0,\n",
       "  '04-profit': 65016.0},\n",
       " 'vegetarian spicy miso': {'01-count': 9216,\n",
       "  '02-revenue': 110592.0,\n",
       "  '03-cogs': 46080.0,\n",
       "  '04-profit': 64512.0},\n",
       " 'shio ramen': {'01-count': 9180,\n",
       "  '02-revenue': 100980.0,\n",
       "  '03-cogs': 45900.0,\n",
       "  '04-profit': 55080.0},\n",
       " 'miso crab ramen': {'01-count': 8890,\n",
       "  '02-revenue': 106680.0,\n",
       "  '03-cogs': 53340.0,\n",
       "  '04-profit': 53340.0},\n",
       " 'nagomi shoyu': {'01-count': 9132,\n",
       "  '02-revenue': 100452.0,\n",
       "  '03-cogs': 45660.0,\n",
       "  '04-profit': 54792.0},\n",
       " 'soft-shell miso crab ramen': {'01-count': 9130,\n",
       "  '02-revenue': 127820.0,\n",
       "  '03-cogs': 63910.0,\n",
       "  '04-profit': 63910.0},\n",
       " 'burnt garlic tonkotsu ramen': {'01-count': 9070,\n",
       "  '02-revenue': 126980.0,\n",
       "  '03-cogs': 54420.0,\n",
       "  '04-profit': 72560.0},\n",
       " 'vegetarian curry + king trumpet mushroom ramen': {'01-count': 8824,\n",
       "  '02-revenue': 114712.0,\n",
       "  '03-cogs': 61768.0,\n",
       "  '04-profit': 52944.0}}"
      ]
     },
     "execution_count": 6,
     "metadata": {},
     "output_type": "execute_result"
    }
   ],
   "source": [
    "report"
   ]
  },
  {
   "cell_type": "code",
   "execution_count": null,
   "metadata": {},
   "outputs": [],
   "source": []
  }
 ],
 "metadata": {
  "kernelspec": {
   "display_name": "Python 3",
   "language": "python",
   "name": "python3"
  },
  "language_info": {
   "codemirror_mode": {
    "name": "ipython",
    "version": 3
   },
   "file_extension": ".py",
   "mimetype": "text/x-python",
   "name": "python",
   "nbconvert_exporter": "python",
   "pygments_lexer": "ipython3",
   "version": "3.8.5"
  }
 },
 "nbformat": 4,
 "nbformat_minor": 4
}
